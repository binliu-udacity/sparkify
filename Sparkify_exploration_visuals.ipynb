{
 "cells": [
  {
   "cell_type": "markdown",
   "metadata": {},
   "source": [
    "# Sparkify Initial Data Exploration\n",
    "This workspace contains a tiny subset (128MB) of the full dataset available (12GB). Feel free to use this workspace to build your project, or to explore a smaller subset with Spark before deploying your cluster on the cloud. Instructions for setting up your Spark cluster is included in the last lesson of the Extracurricular Spark Course content.\n",
    "\n",
    "You can follow the steps below to guide your data analysis and model building portion of this project."
   ]
  },
  {
   "cell_type": "code",
   "execution_count": 117,
   "metadata": {},
   "outputs": [
    {
     "name": "stdout",
     "output_type": "stream",
     "text": [
      "start SPARK application\n"
     ]
    }
   ],
   "source": [
    "# import packages\n",
    "import os\n",
    "import re\n",
    "import sys\n",
    "print(\"start SPARK application\")"
   ]
  },
  {
   "cell_type": "code",
   "execution_count": 118,
   "metadata": {},
   "outputs": [],
   "source": [
    "# this cell is used on AWS EMR\n",
    "# os.environ[\"SPARK_HOME\"] = \"/usr/lib/spark/\"\n",
    "# os.environ[\"PYSPARK_PYTHON\"] = \"/mnt/anaconda3/bin/python3.7\"\n",
    "# spark_home = os.environ.get('SPARK_HOME', None)\n",
    "# sys.path.insert(0, spark_home + \"/python\")\n",
    "# sys.path.insert(0, os.path.join(spark_home, 'python/lib/py4j-src.zip'))\n",
    "\n",
    "# from pyspark.sql import SparkSession\n",
    "# spark = SparkSession.builder.master(\"yarn\").getOrCreate()\n",
    "# spark.conf.set(\"spark.sql.broadcastTimeout\", 72000)"
   ]
  },
  {
   "cell_type": "code",
   "execution_count": 119,
   "metadata": {},
   "outputs": [],
   "source": [
    "# import libraries\n",
    "import os\n",
    "import re\n",
    "import copy\n",
    "import time\n",
    "import datetime\n",
    "import seaborn as sns\n",
    "import pandas as pd\n",
    "from matplotlib import pyplot as plt\n",
    "\n",
    "from pyspark.sql import SparkSession\n",
    "from pyspark.sql.functions import *\n",
    "from pyspark.sql.types import *\n",
    "\n",
    "%matplotlib inline"
   ]
  },
  {
   "cell_type": "code",
   "execution_count": 120,
   "metadata": {},
   "outputs": [],
   "source": [
    "pd.set_option('display.max_columns', None)  \n",
    "pd.set_option('display.expand_frame_repr', False)\n",
    "pd.set_option('max_colwidth', -1)"
   ]
  },
  {
   "cell_type": "code",
   "execution_count": 121,
   "metadata": {},
   "outputs": [],
   "source": [
    "def cleanse_data(df):\n",
    "    \"\"\"\n",
    "    Removes special characters from StringType columns \n",
    "    (special chars. except , and - which might be useful for splitting columns)\n",
    "    Casts miliseconds ts column and creates two new columns with timestamptype and datetype,\n",
    "    which will be used for further processing\n",
    "    Extracts month from ts\n",
    "    Casts user id to LongType\n",
    "    Splits location field and takes only state name as location\n",
    "    :param df: Spark DataFrame\n",
    "    :return df preprocessed Spark DataFrame\n",
    "    \"\"\"\n",
    "    # cleanse stringtype fields from special characters\n",
    "    for field in df.schema.fields:\n",
    "        if field.dataType==StringType():\n",
    "            df = df.withColumn(field.name, regexp_replace(field.name, '[^a-zA-Z0-9\\,\\-]', ''))\n",
    "    \n",
    "    df = df.withColumn('interaction_time', from_unixtime(col('ts').cast(LongType())/1000).cast(TimestampType()))\n",
    "    df = df.withColumn('month', month(col('interaction_time')))\n",
    "    df = df.withColumn('date', from_unixtime(col('ts')/1000).cast(DateType()))\n",
    "    df = df.withColumn('userId', col('userId').cast(LongType()))\n",
    "    df = df.filter(col('userId').isNotNull())\n",
    "    df = df.filter(col('auth')!='LoggedOut')\n",
    "    df = df.withColumn('location', split(col('location'),',').getItem(1))\n",
    "    \n",
    "    return df\n",
    "    "
   ]
  },
  {
   "cell_type": "code",
   "execution_count": 122,
   "metadata": {},
   "outputs": [],
   "source": [
    "def label_data(df):\n",
    "    \"\"\"\n",
    "    Calculates features from existing fields\n",
    "    Adds label column\n",
    "    :param df: spark DataFrame\n",
    "    \"\"\"\n",
    "   \n",
    "    label_df = df.withColumn('label',\n",
    "                             when((col('page').\\\n",
    "                                   isin(['Cancellation Confirmation','Cancel'])) | \\\n",
    "                                  (col('auth')=='Cancelled'),1 ).\\\n",
    "                             otherwise(0)).\\\n",
    "    groupby('userId').agg(sum('label').alias('label')).\\\n",
    "    withColumn('label', when(col('label')>=1 ,1).otherwise(0))\n",
    "\n",
    "    df = df.join(label_df, on='userId')\n",
    "\n",
    "    return df"
   ]
  },
  {
   "cell_type": "code",
   "execution_count": 123,
   "metadata": {},
   "outputs": [],
   "source": [
    "def registered_days(df):\n",
    "    \"\"\"\n",
    "    Calculates number of days between registration to last interaction\n",
    "    :param df: spark DataFrame\n",
    "    :return df with calculated column\n",
    "    \"\"\"\n",
    "    last_interaction_df =  df.groupBy('userId').agg(max('ts').alias('last_interaction'))\n",
    "\n",
    "    df = last_interaction_df.join(df, on='userId').withColumn('registered_days', ((col('last_interaction')-col('registration'))/86400000).cast(IntegerType()))\n",
    "    return df"
   ]
  },
  {
   "cell_type": "code",
   "execution_count": 124,
   "metadata": {},
   "outputs": [],
   "source": [
    "# please comment out to create a Spark session\n",
    "# spark = SparkSession \\\n",
    "#     .builder \\\n",
    "#     .appName(\"Sparkify\") \\\n",
    "#     .getOrCreate()\n",
    "\n",
    "# Read in full sparkify dataset\n",
    "event_data = \"medium-sparkify-event-data.json\""
   ]
  },
  {
   "cell_type": "code",
   "execution_count": 125,
   "metadata": {},
   "outputs": [],
   "source": [
    "df = spark.read.json(file_path)"
   ]
  },
  {
   "cell_type": "code",
   "execution_count": 126,
   "metadata": {},
   "outputs": [
    {
     "data": {
      "text/plain": [
       "543705"
      ]
     },
     "execution_count": 126,
     "metadata": {},
     "output_type": "execute_result"
    }
   ],
   "source": [
    "df.count()"
   ]
  },
  {
   "cell_type": "code",
   "execution_count": 127,
   "metadata": {},
   "outputs": [
    {
     "data": {
      "text/html": [
       "<div>\n",
       "<style scoped>\n",
       "    .dataframe tbody tr th:only-of-type {\n",
       "        vertical-align: middle;\n",
       "    }\n",
       "\n",
       "    .dataframe tbody tr th {\n",
       "        vertical-align: top;\n",
       "    }\n",
       "\n",
       "    .dataframe thead th {\n",
       "        text-align: right;\n",
       "    }\n",
       "</style>\n",
       "<table border=\"1\" class=\"dataframe\">\n",
       "  <thead>\n",
       "    <tr style=\"text-align: right;\">\n",
       "      <th></th>\n",
       "      <th>artist</th>\n",
       "      <th>auth</th>\n",
       "      <th>firstName</th>\n",
       "      <th>gender</th>\n",
       "      <th>itemInSession</th>\n",
       "      <th>lastName</th>\n",
       "      <th>length</th>\n",
       "      <th>level</th>\n",
       "      <th>location</th>\n",
       "      <th>method</th>\n",
       "      <th>page</th>\n",
       "      <th>registration</th>\n",
       "      <th>sessionId</th>\n",
       "      <th>song</th>\n",
       "      <th>status</th>\n",
       "      <th>ts</th>\n",
       "      <th>userAgent</th>\n",
       "      <th>userId</th>\n",
       "    </tr>\n",
       "  </thead>\n",
       "  <tbody>\n",
       "    <tr>\n",
       "      <th>0</th>\n",
       "      <td>Martin Orford</td>\n",
       "      <td>Logged In</td>\n",
       "      <td>Joseph</td>\n",
       "      <td>M</td>\n",
       "      <td>20</td>\n",
       "      <td>Morales</td>\n",
       "      <td>597.55057</td>\n",
       "      <td>free</td>\n",
       "      <td>Corpus Christi, TX</td>\n",
       "      <td>PUT</td>\n",
       "      <td>NextSong</td>\n",
       "      <td>1532063507000</td>\n",
       "      <td>292</td>\n",
       "      <td>Grand Designs</td>\n",
       "      <td>200</td>\n",
       "      <td>1538352011000</td>\n",
       "      <td>\"Mozilla/5.0 (Macintosh; Intel Mac OS X 10_9_4) AppleWebKit/537.36 (KHTML, like Gecko) Chrome/36.0.1985.125 Safari/537.36\"</td>\n",
       "      <td>293</td>\n",
       "    </tr>\n",
       "    <tr>\n",
       "      <th>1</th>\n",
       "      <td>John Brown's Body</td>\n",
       "      <td>Logged In</td>\n",
       "      <td>Sawyer</td>\n",
       "      <td>M</td>\n",
       "      <td>74</td>\n",
       "      <td>Larson</td>\n",
       "      <td>380.21179</td>\n",
       "      <td>free</td>\n",
       "      <td>Houston-The Woodlands-Sugar Land, TX</td>\n",
       "      <td>PUT</td>\n",
       "      <td>NextSong</td>\n",
       "      <td>1538069638000</td>\n",
       "      <td>97</td>\n",
       "      <td>Bulls</td>\n",
       "      <td>200</td>\n",
       "      <td>1538352025000</td>\n",
       "      <td>\"Mozilla/5.0 (Macintosh; Intel Mac OS X 10_9_4) AppleWebKit/537.36 (KHTML, like Gecko) Chrome/36.0.1985.143 Safari/537.36\"</td>\n",
       "      <td>98</td>\n",
       "    </tr>\n",
       "    <tr>\n",
       "      <th>2</th>\n",
       "      <td>Afroman</td>\n",
       "      <td>Logged In</td>\n",
       "      <td>Maverick</td>\n",
       "      <td>M</td>\n",
       "      <td>184</td>\n",
       "      <td>Santiago</td>\n",
       "      <td>202.37016</td>\n",
       "      <td>paid</td>\n",
       "      <td>Orlando-Kissimmee-Sanford, FL</td>\n",
       "      <td>PUT</td>\n",
       "      <td>NextSong</td>\n",
       "      <td>1535953455000</td>\n",
       "      <td>178</td>\n",
       "      <td>Because I Got High</td>\n",
       "      <td>200</td>\n",
       "      <td>1538352118000</td>\n",
       "      <td>\"Mozilla/5.0 (Macintosh; Intel Mac OS X 10_9_4) AppleWebKit/537.36 (KHTML, like Gecko) Chrome/36.0.1985.143 Safari/537.36\"</td>\n",
       "      <td>179</td>\n",
       "    </tr>\n",
       "    <tr>\n",
       "      <th>3</th>\n",
       "      <td>None</td>\n",
       "      <td>Logged In</td>\n",
       "      <td>Maverick</td>\n",
       "      <td>M</td>\n",
       "      <td>185</td>\n",
       "      <td>Santiago</td>\n",
       "      <td>NaN</td>\n",
       "      <td>paid</td>\n",
       "      <td>Orlando-Kissimmee-Sanford, FL</td>\n",
       "      <td>PUT</td>\n",
       "      <td>Logout</td>\n",
       "      <td>1535953455000</td>\n",
       "      <td>178</td>\n",
       "      <td>None</td>\n",
       "      <td>307</td>\n",
       "      <td>1538352119000</td>\n",
       "      <td>\"Mozilla/5.0 (Macintosh; Intel Mac OS X 10_9_4) AppleWebKit/537.36 (KHTML, like Gecko) Chrome/36.0.1985.143 Safari/537.36\"</td>\n",
       "      <td>179</td>\n",
       "    </tr>\n",
       "    <tr>\n",
       "      <th>4</th>\n",
       "      <td>Lily Allen</td>\n",
       "      <td>Logged In</td>\n",
       "      <td>Gianna</td>\n",
       "      <td>F</td>\n",
       "      <td>22</td>\n",
       "      <td>Campos</td>\n",
       "      <td>194.53342</td>\n",
       "      <td>paid</td>\n",
       "      <td>Mobile, AL</td>\n",
       "      <td>PUT</td>\n",
       "      <td>NextSong</td>\n",
       "      <td>1535931018000</td>\n",
       "      <td>245</td>\n",
       "      <td>Smile (Radio Edit)</td>\n",
       "      <td>200</td>\n",
       "      <td>1538352124000</td>\n",
       "      <td>Mozilla/5.0 (Windows NT 6.1; WOW64; rv:31.0) Gecko/20100101 Firefox/31.0</td>\n",
       "      <td>246</td>\n",
       "    </tr>\n",
       "  </tbody>\n",
       "</table>\n",
       "</div>"
      ],
      "text/plain": [
       "              artist       auth firstName gender  itemInSession  lastName     length level                              location method      page   registration  sessionId                song  status             ts                                                                                                                   userAgent userId\n",
       "0  Martin Orford      Logged In  Joseph    M      20             Morales   597.55057  free  Corpus Christi, TX                    PUT    NextSong  1532063507000  292        Grand Designs       200     1538352011000  \"Mozilla/5.0 (Macintosh; Intel Mac OS X 10_9_4) AppleWebKit/537.36 (KHTML, like Gecko) Chrome/36.0.1985.125 Safari/537.36\"  293  \n",
       "1  John Brown's Body  Logged In  Sawyer    M      74             Larson    380.21179  free  Houston-The Woodlands-Sugar Land, TX  PUT    NextSong  1538069638000  97         Bulls               200     1538352025000  \"Mozilla/5.0 (Macintosh; Intel Mac OS X 10_9_4) AppleWebKit/537.36 (KHTML, like Gecko) Chrome/36.0.1985.143 Safari/537.36\"  98   \n",
       "2  Afroman            Logged In  Maverick  M      184            Santiago  202.37016  paid  Orlando-Kissimmee-Sanford, FL         PUT    NextSong  1535953455000  178        Because I Got High  200     1538352118000  \"Mozilla/5.0 (Macintosh; Intel Mac OS X 10_9_4) AppleWebKit/537.36 (KHTML, like Gecko) Chrome/36.0.1985.143 Safari/537.36\"  179  \n",
       "3  None               Logged In  Maverick  M      185            Santiago NaN         paid  Orlando-Kissimmee-Sanford, FL         PUT    Logout    1535953455000  178        None                307     1538352119000  \"Mozilla/5.0 (Macintosh; Intel Mac OS X 10_9_4) AppleWebKit/537.36 (KHTML, like Gecko) Chrome/36.0.1985.143 Safari/537.36\"  179  \n",
       "4  Lily Allen         Logged In  Gianna    F      22             Campos    194.53342  paid  Mobile, AL                            PUT    NextSong  1535931018000  245        Smile (Radio Edit)  200     1538352124000  Mozilla/5.0 (Windows NT 6.1; WOW64; rv:31.0) Gecko/20100101 Firefox/31.0                                                    246  "
      ]
     },
     "execution_count": 127,
     "metadata": {},
     "output_type": "execute_result"
    }
   ],
   "source": [
    "pd.DataFrame(df.take(5), columns=df.columns).head()"
   ]
  },
  {
   "cell_type": "code",
   "execution_count": 128,
   "metadata": {},
   "outputs": [
    {
     "name": "stdout",
     "output_type": "stream",
     "text": [
      "root\n",
      " |-- artist: string (nullable = true)\n",
      " |-- auth: string (nullable = true)\n",
      " |-- firstName: string (nullable = true)\n",
      " |-- gender: string (nullable = true)\n",
      " |-- itemInSession: long (nullable = true)\n",
      " |-- lastName: string (nullable = true)\n",
      " |-- length: double (nullable = true)\n",
      " |-- level: string (nullable = true)\n",
      " |-- location: string (nullable = true)\n",
      " |-- method: string (nullable = true)\n",
      " |-- page: string (nullable = true)\n",
      " |-- registration: long (nullable = true)\n",
      " |-- sessionId: long (nullable = true)\n",
      " |-- song: string (nullable = true)\n",
      " |-- status: long (nullable = true)\n",
      " |-- ts: long (nullable = true)\n",
      " |-- userAgent: string (nullable = true)\n",
      " |-- userId: string (nullable = true)\n",
      "\n"
     ]
    }
   ],
   "source": [
    "df.printSchema()"
   ]
  },
  {
   "cell_type": "markdown",
   "metadata": {},
   "source": [
    "Some fields can be integer instead of string(such as userId), cleansing special characters might help to find right schema for fields."
   ]
  },
  {
   "cell_type": "markdown",
   "metadata": {},
   "source": [
    "**Number of distinct users:**"
   ]
  },
  {
   "cell_type": "code",
   "execution_count": 129,
   "metadata": {},
   "outputs": [
    {
     "data": {
      "text/plain": [
       "449"
      ]
     },
     "execution_count": 129,
     "metadata": {},
     "output_type": "execute_result"
    }
   ],
   "source": [
    "df.select('userId').distinct().count()"
   ]
  },
  {
   "cell_type": "markdown",
   "metadata": {},
   "source": [
    "**Logs Time frame:**"
   ]
  },
  {
   "cell_type": "code",
   "execution_count": 130,
   "metadata": {},
   "outputs": [
    {
     "data": {
      "text/plain": [
       "[Row(max(CAST(from_unixtime((ts / 1000), yyyy-MM-dd HH:mm:ss) AS DATE))=datetime.date(2018, 12, 1), min(CAST(from_unixtime((ts / 1000), yyyy-MM-dd HH:mm:ss) AS DATE))=datetime.date(2018, 10, 1))]"
      ]
     },
     "execution_count": 130,
     "metadata": {},
     "output_type": "execute_result"
    }
   ],
   "source": [
    "df.agg(max(from_unixtime(col('ts')/1000).cast(DateType())),min(from_unixtime(col('ts')/1000).cast(DateType()))).collect()"
   ]
  },
  {
   "cell_type": "markdown",
   "metadata": {},
   "source": [
    "So We have 2 months of data."
   ]
  },
  {
   "cell_type": "markdown",
   "metadata": {},
   "source": [
    "**Distinct Values for Columns of Interest**"
   ]
  },
  {
   "cell_type": "code",
   "execution_count": 131,
   "metadata": {},
   "outputs": [
    {
     "data": {
      "text/plain": [
       "[Row(page='Cancel'),\n",
       " Row(page='Submit Downgrade'),\n",
       " Row(page='Thumbs Down'),\n",
       " Row(page='Home'),\n",
       " Row(page='Downgrade'),\n",
       " Row(page='Roll Advert'),\n",
       " Row(page='Logout'),\n",
       " Row(page='Save Settings'),\n",
       " Row(page='Cancellation Confirmation'),\n",
       " Row(page='About'),\n",
       " Row(page='Submit Registration'),\n",
       " Row(page='Settings'),\n",
       " Row(page='Login'),\n",
       " Row(page='Register'),\n",
       " Row(page='Add to Playlist'),\n",
       " Row(page='Add Friend'),\n",
       " Row(page='NextSong'),\n",
       " Row(page='Thumbs Up'),\n",
       " Row(page='Help'),\n",
       " Row(page='Upgrade'),\n",
       " Row(page='Error'),\n",
       " Row(page='Submit Upgrade')]"
      ]
     },
     "execution_count": 131,
     "metadata": {},
     "output_type": "execute_result"
    }
   ],
   "source": [
    "df.select('page').distinct().collect()"
   ]
  },
  {
   "cell_type": "code",
   "execution_count": 132,
   "metadata": {},
   "outputs": [
    {
     "data": {
      "text/plain": [
       "[Row(auth='Logged Out'),\n",
       " Row(auth='Cancelled'),\n",
       " Row(auth='Guest'),\n",
       " Row(auth='Logged In')]"
      ]
     },
     "execution_count": 132,
     "metadata": {},
     "output_type": "execute_result"
    }
   ],
   "source": [
    "df.select('auth').distinct().collect()"
   ]
  },
  {
   "cell_type": "code",
   "execution_count": 133,
   "metadata": {},
   "outputs": [
    {
     "data": {
      "text/plain": [
       "[Row(level='free'), Row(level='paid')]"
      ]
     },
     "execution_count": 133,
     "metadata": {},
     "output_type": "execute_result"
    }
   ],
   "source": [
    "df.select('level').distinct().collect()"
   ]
  },
  {
   "cell_type": "code",
   "execution_count": 134,
   "metadata": {},
   "outputs": [
    {
     "data": {
      "text/plain": [
       "[Row(gender='F'), Row(gender=None), Row(gender='M')]"
      ]
     },
     "execution_count": 134,
     "metadata": {},
     "output_type": "execute_result"
    }
   ],
   "source": [
    "df.select('gender').distinct().collect()"
   ]
  },
  {
   "cell_type": "code",
   "execution_count": 135,
   "metadata": {},
   "outputs": [
    {
     "data": {
      "text/plain": [
       "[Row(status=307), Row(status=404), Row(status=200)]"
      ]
     },
     "execution_count": 135,
     "metadata": {},
     "output_type": "execute_result"
    }
   ],
   "source": [
    "df.select('status').distinct().collect()"
   ]
  },
  {
   "cell_type": "code",
   "execution_count": 136,
   "metadata": {},
   "outputs": [
    {
     "data": {
      "text/plain": [
       "[Row(method='PUT'), Row(method='GET')]"
      ]
     },
     "execution_count": 136,
     "metadata": {},
     "output_type": "execute_result"
    }
   ],
   "source": [
    "df.select('method').distinct().collect()"
   ]
  },
  {
   "cell_type": "markdown",
   "metadata": {},
   "source": [
    "**Null check**"
   ]
  },
  {
   "cell_type": "code",
   "execution_count": 137,
   "metadata": {},
   "outputs": [
    {
     "name": "stdout",
     "output_type": "stream",
     "text": [
      "+------+----+---------+------+-------------+--------+------+-----+--------+------+----+------------+---------+------+------+---+---------+------+\n",
      "|artist|auth|firstName|gender|itemInSession|lastName|length|level|location|method|page|registration|sessionId|  song|status| ts|userAgent|userId|\n",
      "+------+----+---------+------+-------------+--------+------+-----+--------+------+----+------------+---------+------+------+---+---------+------+\n",
      "|110828|   0|    15700| 15700|            0|   15700|110828|    0|   15700|     0|   0|       15700|        0|110828|     0|  0|    15700|     0|\n",
      "+------+----+---------+------+-------------+--------+------+-----+--------+------+----+------------+---------+------+------+---+---------+------+\n",
      "\n"
     ]
    }
   ],
   "source": [
    "df.select([count(when(isnull(c), c)).alias(c) for c in df.columns]).show()"
   ]
  },
  {
   "cell_type": "markdown",
   "metadata": {},
   "source": [
    "**It is obvious that there is a pattern in the nulls**"
   ]
  },
  {
   "cell_type": "code",
   "execution_count": 138,
   "metadata": {},
   "outputs": [
    {
     "name": "stdout",
     "output_type": "stream",
     "text": [
      "+------+----------+---------+------+-------------+--------+------+-----+--------------------+------+---------------+-------------+---------+----+------+-------------+--------------------+------+\n",
      "|artist|      auth|firstName|gender|itemInSession|lastName|length|level|            location|method|           page| registration|sessionId|song|status|           ts|           userAgent|userId|\n",
      "+------+----------+---------+------+-------------+--------+------+-----+--------------------+------+---------------+-------------+---------+----+------+-------------+--------------------+------+\n",
      "|  null| Logged In| Maverick|     M|          185|Santiago|  null| paid|Orlando-Kissimmee...|   PUT|         Logout|1535953455000|      178|null|   307|1538352119000|\"Mozilla/5.0 (Mac...|   179|\n",
      "|  null|Logged Out|     null|  null|          186|    null|  null| paid|                null|   GET|           Home|         null|      178|null|   200|1538352148000|                null|      |\n",
      "|  null|Logged Out|     null|  null|          187|    null|  null| paid|                null|   GET|           Home|         null|      178|null|   200|1538352151000|                null|      |\n",
      "|  null|Logged Out|     null|  null|          188|    null|  null| paid|                null|   GET|           Home|         null|      178|null|   200|1538352168000|                null|      |\n",
      "|  null|Logged Out|     null|  null|          189|    null|  null| paid|                null|   PUT|          Login|         null|      178|null|   307|1538352169000|                null|      |\n",
      "|  null| Logged In| Maverick|     M|          190|Santiago|  null| paid|Orlando-Kissimmee...|   GET|           Home|1535953455000|      178|null|   200|1538352176000|\"Mozilla/5.0 (Mac...|   179|\n",
      "|  null| Logged In|    Colin|     M|            0|  Larson|  null| free|Dallas-Fort Worth...|   GET|           Home|1537982255000|      497|null|   200|1538352241000|Mozilla/5.0 (Wind...|   100|\n",
      "|  null| Logged In|    Sofia|     F|          268|  Gordon|  null| paid|       Rochester, MN|   GET|      Downgrade|1533175710000|      162|null|   200|1538352336000|\"Mozilla/5.0 (Mac...|   163|\n",
      "|  null| Logged In| Maverick|     M|          192|Santiago|  null| paid|Orlando-Kissimmee...|   PUT|Add to Playlist|1535953455000|      178|null|   200|1538352376000|\"Mozilla/5.0 (Mac...|   179|\n",
      "|  null| Logged In|   Sawyer|     M|           76|  Larson|  null| free|Houston-The Woodl...|   GET|    Roll Advert|1538069638000|       97|null|   200|1538352435000|\"Mozilla/5.0 (Mac...|    98|\n",
      "+------+----------+---------+------+-------------+--------+------+-----+--------------------+------+---------------+-------------+---------+----+------+-------------+--------------------+------+\n",
      "only showing top 10 rows\n",
      "\n"
     ]
    }
   ],
   "source": [
    "df.where(\"artist is null\").show(10)"
   ]
  },
  {
   "cell_type": "code",
   "execution_count": 139,
   "metadata": {},
   "outputs": [
    {
     "data": {
      "text/plain": [
       "{Row(page='NextSong')}"
      ]
     },
     "execution_count": 139,
     "metadata": {},
     "output_type": "execute_result"
    }
   ],
   "source": [
    "set(df.select('page').distinct().collect())-set(df.where(\"artist is null\").select('page').distinct().collect())\n",
    "    \n",
    "    "
   ]
  },
  {
   "cell_type": "markdown",
   "metadata": {},
   "source": [
    "**We can see that artist,length and song are null whenever auth is LoggedOut or page is different than NextSong.**"
   ]
  },
  {
   "cell_type": "code",
   "execution_count": 140,
   "metadata": {},
   "outputs": [
    {
     "name": "stdout",
     "output_type": "stream",
     "text": [
      "+------+----------+---------+------+-------------+--------+------+-----+--------+------+-----+------------+---------+----+------+-------------+---------+------+\n",
      "|artist|      auth|firstName|gender|itemInSession|lastName|length|level|location|method| page|registration|sessionId|song|status|           ts|userAgent|userId|\n",
      "+------+----------+---------+------+-------------+--------+------+-----+--------+------+-----+------------+---------+----+------+-------------+---------+------+\n",
      "|  null|Logged Out|     null|  null|          186|    null|  null| paid|    null|   GET| Home|        null|      178|null|   200|1538352148000|     null|      |\n",
      "|  null|Logged Out|     null|  null|          187|    null|  null| paid|    null|   GET| Home|        null|      178|null|   200|1538352151000|     null|      |\n",
      "|  null|Logged Out|     null|  null|          188|    null|  null| paid|    null|   GET| Home|        null|      178|null|   200|1538352168000|     null|      |\n",
      "|  null|Logged Out|     null|  null|          189|    null|  null| paid|    null|   PUT|Login|        null|      178|null|   307|1538352169000|     null|      |\n",
      "|  null|Logged Out|     null|  null|          114|    null|  null| free|    null|   GET| Home|        null|      442|null|   200|1538353292000|     null|      |\n",
      "|  null|Logged Out|     null|  null|           34|    null|  null| free|    null|   GET| Home|        null|      292|null|   200|1538355024000|     null|      |\n",
      "|  null|Logged Out|     null|  null|           35|    null|  null| free|    null|   GET| Help|        null|      292|null|   200|1538355098000|     null|      |\n",
      "|  null|Logged Out|     null|  null|           36|    null|  null| free|    null|   GET| Home|        null|      292|null|   200|1538355178000|     null|      |\n",
      "|  null|Logged Out|     null|  null|           37|    null|  null| free|    null|   GET|About|        null|      292|null|   200|1538355186000|     null|      |\n",
      "|  null|Logged Out|     null|  null|           38|    null|  null| free|    null|   PUT|Login|        null|      292|null|   307|1538355187000|     null|      |\n",
      "+------+----------+---------+------+-------------+--------+------+-----+--------+------+-----+------------+---------+----+------+-------------+---------+------+\n",
      "only showing top 10 rows\n",
      "\n"
     ]
    }
   ],
   "source": [
    "df.where(\"lastName is null\").show(10)"
   ]
  },
  {
   "cell_type": "markdown",
   "metadata": {},
   "source": [
    "**We can see that firstName,lastName is null, userid string is EMPTY!(not null) when auth is LoggedOut.**\n",
    "I will cast user id as long so that it would be null instead of being empty, so that we can drop the logs without user id because user id will be our identifier for feature assembly."
   ]
  },
  {
   "cell_type": "code",
   "execution_count": 141,
   "metadata": {},
   "outputs": [
    {
     "name": "stdout",
     "output_type": "stream",
     "text": [
      "+------+-----+----------+------+\n",
      "|gender|level|      auth| count|\n",
      "+------+-----+----------+------+\n",
      "|     F| free| Cancelled|    16|\n",
      "|     F| paid| Logged In|178666|\n",
      "|     M| paid| Logged In|239311|\n",
      "|  null| free|Logged Out|  5053|\n",
      "|     F| free| Logged In| 46682|\n",
      "|     F| paid| Cancelled|    29|\n",
      "|     M| free| Logged In| 63247|\n",
      "|  null| free|     Guest|    94|\n",
      "|     M| free| Cancelled|    16|\n",
      "|  null| paid|Logged Out| 10553|\n",
      "|     M| paid| Cancelled|    38|\n",
      "+------+-----+----------+------+\n",
      "\n"
     ]
    }
   ],
   "source": [
    "df.select('userId','gender','level','auth').groupby(['gender','level','auth']).count().show()"
   ]
  },
  {
   "cell_type": "markdown",
   "metadata": {},
   "source": [
    "**It turns out that null gender is also tied to being Logged Out**"
   ]
  },
  {
   "cell_type": "code",
   "execution_count": 142,
   "metadata": {},
   "outputs": [
    {
     "data": {
      "text/plain": [
       "<matplotlib.axes._subplots.AxesSubplot at 0x7f0d1ef54278>"
      ]
     },
     "execution_count": 142,
     "metadata": {},
     "output_type": "execute_result"
    },
    {
     "data": {
      "image/png": "[encoded data removed]",
      "text/plain": [
       "<Figure size 432x288 with 1 Axes>"
      ]
     },
     "metadata": {
      "needs_background": "light"
     },
     "output_type": "display_data"
    }
   ],
   "source": [
    "auth_df = df.select('ts', 'auth').groupBy('auth').count().toPandas()\n",
    "auth_df.index = auth_df.auth\n",
    "auth_df.plot.bar()"
   ]
  },
  {
   "cell_type": "markdown",
   "metadata": {},
   "source": [
    "**I have defined cleanse_data and label_data functions in the beginning of this notebook**\n",
    "**cleanse_data**:\n",
    "This function first removes special characters from StringType columns. Only ',' and '-' is not removed because we see that location field as an example can be split using ','.\n",
    "Couple of columns are generated based on ts, one is of timestamp type, the other one is datetype, which will be useful for aggregations and time based analysis.\n",
    "userId is cast to longtype so that we can recognize empty strings and then rows with null user id's are removed.\n",
    "The logging out records are of no use since they do not provide userid and other useful fields.It is not relevant to use for further analysis.\n",
    "Finally location field is split with ',' and only state abbreviation is retained for further analysis, as it is easy to use and has less unique values considering it will be encoded for modelling.\n"
   ]
  },
  {
   "cell_type": "code",
   "execution_count": 143,
   "metadata": {},
   "outputs": [],
   "source": [
    "df = cleanse_data(df)\n",
    "df = label_data(df)\n",
    "df = registered_days(df)"
   ]
  },
  {
   "cell_type": "code",
   "execution_count": 103,
   "metadata": {},
   "outputs": [
    {
     "name": "stdout",
     "output_type": "stream",
     "text": [
      "+--------+-----+-----+\n",
      "|location|label|count|\n",
      "+--------+-----+-----+\n",
      "|      IN|    0|    8|\n",
      "|      VA|    0|    4|\n",
      "|      MD|    0|    2|\n",
      "|      AZ|    0|    8|\n",
      "|   RI-MA|    1|    2|\n",
      "|   TN-VA|    1|    1|\n",
      "|      TN|    1|    1|\n",
      "|   MN-WI|    0|    7|\n",
      "|      AZ|    1|    2|\n",
      "|   VA-NC|    0|    3|\n",
      "|      OK|    0|    1|\n",
      "|   GA-AL|    1|    2|\n",
      "|   RI-MA|    0|    3|\n",
      "|      TX|    1|    5|\n",
      "|      NJ|    1|    1|\n",
      "|   MA-NH|    0|    6|\n",
      "|      CT|    1|    2|\n",
      "|      LA|    0|    3|\n",
      "|      AL|    0|    7|\n",
      "|      NC|    0|    8|\n",
      "+--------+-----+-----+\n",
      "only showing top 20 rows\n",
      "\n"
     ]
    }
   ],
   "source": [
    "df.select('userId','location','label').distinct().groupby('location','label').count().show()"
   ]
  },
  {
   "cell_type": "code",
   "execution_count": 104,
   "metadata": {},
   "outputs": [
    {
     "name": "stdout",
     "output_type": "stream",
     "text": [
      "+------+-----+-----+\n",
      "|gender|label|count|\n",
      "+------+-----+-----+\n",
      "|     M|    1|   54|\n",
      "|     F|    0|  153|\n",
      "|     F|    1|   45|\n",
      "|     M|    0|  196|\n",
      "+------+-----+-----+\n",
      "\n"
     ]
    }
   ],
   "source": [
    "df.select('userId','gender','label').distinct().groupby('gender','label').count().show()"
   ]
  },
  {
   "cell_type": "code",
   "execution_count": 107,
   "metadata": {},
   "outputs": [
    {
     "data": {
      "image/png": "[encoded data removed]",
      "text/plain": [
       "<Figure size 432x216 with 2 Axes>"
      ]
     },
     "metadata": {
      "needs_background": "light"
     },
     "output_type": "display_data"
    }
   ],
   "source": [
    "register_df = df.groupBy(['userId', 'label']).avg('registered_days').toPandas()\n",
    "\n",
    "# compare two groups of users\n",
    "g = sns.FacetGrid(register_df, col=\"label\", sharey=False)\n",
    "g.map(plt.hist, \"avg(registered_days)\");"
   ]
  },
  {
   "cell_type": "markdown",
   "metadata": {},
   "source": [
    "**Long time Registered users seems to be more loyal.**"
   ]
  },
  {
   "cell_type": "code",
   "execution_count": 108,
   "metadata": {},
   "outputs": [
    {
     "data": {
      "image/png": "[encoded data removed]",
      "text/plain": [
       "<Figure size 432x216 with 2 Axes>"
      ]
     },
     "metadata": {
      "needs_background": "light"
     },
     "output_type": "display_data"
    }
   ],
   "source": [
    "sess_df = df.select('userId', 'label', 'sessionId').distinct().groupBy(['userId', 'label']).count().toPandas()\n",
    "\n",
    "# compare two groups of users\n",
    "g = sns.FacetGrid(sess_df, col=\"label\", sharey=False)\n",
    "g.map(plt.hist, \"count\");"
   ]
  },
  {
   "cell_type": "markdown",
   "metadata": {},
   "source": [
    "**Number of distinct sessions per user is less for churn users**"
   ]
  },
  {
   "cell_type": "code",
   "execution_count": 109,
   "metadata": {},
   "outputs": [
    {
     "data": {
      "image/png": "[encoded data removed]",
      "text/plain": [
       "<Figure size 432x216 with 2 Axes>"
      ]
     },
     "metadata": {
      "needs_background": "light"
     },
     "output_type": "display_data"
    }
   ],
   "source": [
    "item_df = df.groupBy(['userId', 'label']).avg('itemInSession').toPandas()\n",
    "\n",
    "# compare two groups of users\n",
    "g = sns.FacetGrid(item_df, col=\"label\", sharey=False)\n",
    "g.map(plt.hist, \"avg(itemInSession)\");"
   ]
  },
  {
   "cell_type": "markdown",
   "metadata": {},
   "source": [
    "**Average number of items per user is less for churn users**"
   ]
  },
  {
   "cell_type": "code",
   "execution_count": 115,
   "metadata": {},
   "outputs": [
    {
     "data": {
      "text/plain": [
       "<matplotlib.axes._subplots.AxesSubplot at 0x7f0d1ed79e48>"
      ]
     },
     "execution_count": 115,
     "metadata": {},
     "output_type": "execute_result"
    },
    {
     "data": {
      "image/png": "[encoded data removed]",
      "text/plain": [
       "<Figure size 576x576 with 1 Axes>"
      ]
     },
     "metadata": {
      "needs_background": "light"
     },
     "output_type": "display_data"
    }
   ],
   "source": [
    "df_count = df.select('userId','gender','level').groupby('gender','level').count().toPandas().sort_values(by='count')\n",
    "fig = plt.figure(figsize=(8,8))\n",
    "ax = fig.gca()\n",
    "plt.rcParams[\"font.size\"] = \"20\"\n",
    "df_count.pivot(index='level', columns='gender', values='count').plot(kind='bar', ax=ax)\n",
    "# plt.savefig('gender_level.png')"
   ]
  },
  {
   "cell_type": "code",
   "execution_count": 116,
   "metadata": {},
   "outputs": [
    {
     "data": {
      "text/plain": [
       "<matplotlib.axes._subplots.AxesSubplot at 0x7f0d1ee5bc50>"
      ]
     },
     "execution_count": 116,
     "metadata": {},
     "output_type": "execute_result"
    },
    {
     "data": {
      "image/png": "[encoded data removed]",
      "text/plain": [
       "<Figure size 576x576 with 1 Axes>"
      ]
     },
     "metadata": {
      "needs_background": "light"
     },
     "output_type": "display_data"
    }
   ],
   "source": [
    "df_count_ = df.select('userId','level','label').groupby('level','label').count().toPandas().sort_values(by='count')\n",
    "fig = plt.figure(figsize=(8,8))\n",
    "ax = fig.gca()\n",
    "plt.rcParams[\"font.size\"] = \"20\"\n",
    "df_count_.pivot(index='label', columns='level', values='count').plot(kind='bar', ax=ax)\n",
    "# plt.savefig('label_level.png')"
   ]
  },
  {
   "cell_type": "code",
   "execution_count": 114,
   "metadata": {},
   "outputs": [
    {
     "data": {
      "text/plain": [
       "<matplotlib.axes._subplots.AxesSubplot at 0x7f0d1f10e198>"
      ]
     },
     "execution_count": 114,
     "metadata": {},
     "output_type": "execute_result"
    },
    {
     "data": {
      "image/png": "[encoded data removed]",
      "text/plain": [
       "<Figure size 1080x576 with 1 Axes>"
      ]
     },
     "metadata": {
      "needs_background": "light"
     },
     "output_type": "display_data"
    }
   ],
   "source": [
    "df_state_count_ = df.select('userId','location','label').groupby('location','label').count().toPandas().sort_values(by='count')\n",
    "fig = plt.figure(figsize=(15,8))\n",
    "ax = fig.gca()\n",
    "df_state_count_.pivot(index='location', columns='label', values='count').plot(kind='bar', ax=ax)\n",
    "# plt.savefig('state_churn.png')\n",
    "\n"
   ]
  },
  {
   "cell_type": "markdown",
   "metadata": {},
   "source": [
    "**From the plot one can say that location is also an important factor for churn** Some states has large proportion of churners whereas some have none."
   ]
  },
  {
   "cell_type": "code",
   "execution_count": null,
   "metadata": {},
   "outputs": [],
   "source": []
  }
 ],
 "metadata": {
  "kernelspec": {
   "display_name": "Python 3",
   "language": "python",
   "name": "python3"
  },
  "language_info": {
   "codemirror_mode": {
    "name": "ipython",
    "version": 3
   },
   "file_extension": ".py",
   "mimetype": "text/x-python",
   "name": "python",
   "nbconvert_exporter": "python",
   "pygments_lexer": "ipython3",
   "version": "3.7.1"
  },
  "pycharm": {
   "stem_cell": {
    "cell_type": "raw",
    "metadata": {
     "collapsed": false
    },
    "source": []
   }
  }
 },
 "nbformat": 4,
 "nbformat_minor": 2
}
